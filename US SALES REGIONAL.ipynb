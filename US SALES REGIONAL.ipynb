{
 "cells": [
  {
   "cell_type": "markdown",
   "id": "36dd30ae",
   "metadata": {},
   "source": [
    "# Students:\n"
   ]
  },
  {
   "cell_type": "markdown",
   "id": "bf221ed9",
   "metadata": {},
   "source": [
    "## Muhammad Saad-10155"
   ]
  },
  {
   "cell_type": "markdown",
   "id": "232ebcdf",
   "metadata": {},
   "source": [
    "## Ashaj Bin Arshad-10097"
   ]
  },
  {
   "cell_type": "markdown",
   "id": "ab4d879b",
   "metadata": {},
   "source": [
    "## Athar Rasool"
   ]
  },
  {
   "cell_type": "code",
   "execution_count": 1,
   "id": "ad86a52e",
   "metadata": {},
   "outputs": [],
   "source": [
    "import pandas as pd"
   ]
  },
  {
   "cell_type": "code",
   "execution_count": 2,
   "id": "89920714",
   "metadata": {},
   "outputs": [],
   "source": [
    "Sales = pd.read_csv(\"C:/Users/IT EXPERT/Desktop/Datawarehouse/Datasets/salesorder.csv\")"
   ]
  },
  {
   "cell_type": "code",
   "execution_count": 3,
   "id": "1c31cdb3",
   "metadata": {},
   "outputs": [
    {
     "data": {
      "text/plain": [
       "(7991, 16)"
      ]
     },
     "execution_count": 3,
     "metadata": {},
     "output_type": "execute_result"
    }
   ],
   "source": [
    "Sales.shape"
   ]
  },
  {
   "cell_type": "code",
   "execution_count": 4,
   "id": "931c3453",
   "metadata": {},
   "outputs": [
    {
     "data": {
      "text/plain": [
       "Index(['OrderNumber', 'Sales Channel', 'WarehouseCode', 'ProcuredDate',\n",
       "       'OrderDate', 'ShipDate', 'DeliveryDate', 'CurrencyCode', '_SalesTeamID',\n",
       "       '_CustomerID', '_StoreID', '_ProductID', 'Order Quantity',\n",
       "       'Discount Applied', 'Unit Price', 'Unit Cost'],\n",
       "      dtype='object')"
      ]
     },
     "execution_count": 4,
     "metadata": {},
     "output_type": "execute_result"
    }
   ],
   "source": [
    "Sales.columns"
   ]
  },
  {
   "cell_type": "code",
   "execution_count": 5,
   "id": "7c42e62a",
   "metadata": {},
   "outputs": [
    {
     "data": {
      "text/html": [
       "<div>\n",
       "<style scoped>\n",
       "    .dataframe tbody tr th:only-of-type {\n",
       "        vertical-align: middle;\n",
       "    }\n",
       "\n",
       "    .dataframe tbody tr th {\n",
       "        vertical-align: top;\n",
       "    }\n",
       "\n",
       "    .dataframe thead th {\n",
       "        text-align: right;\n",
       "    }\n",
       "</style>\n",
       "<table border=\"1\" class=\"dataframe\">\n",
       "  <thead>\n",
       "    <tr style=\"text-align: right;\">\n",
       "      <th></th>\n",
       "      <th>OrderNumber</th>\n",
       "      <th>Sales Channel</th>\n",
       "      <th>WarehouseCode</th>\n",
       "      <th>ProcuredDate</th>\n",
       "      <th>OrderDate</th>\n",
       "      <th>ShipDate</th>\n",
       "      <th>DeliveryDate</th>\n",
       "      <th>CurrencyCode</th>\n",
       "      <th>_SalesTeamID</th>\n",
       "      <th>_CustomerID</th>\n",
       "      <th>_StoreID</th>\n",
       "      <th>_ProductID</th>\n",
       "      <th>Order Quantity</th>\n",
       "      <th>Discount Applied</th>\n",
       "      <th>Unit Price</th>\n",
       "      <th>Unit Cost</th>\n",
       "    </tr>\n",
       "  </thead>\n",
       "  <tbody>\n",
       "    <tr>\n",
       "      <th>0</th>\n",
       "      <td>SO - 000101</td>\n",
       "      <td>In-Store</td>\n",
       "      <td>WARE-UHY1004</td>\n",
       "      <td>12/31/2017</td>\n",
       "      <td>5/31/2018</td>\n",
       "      <td>6/14/2018</td>\n",
       "      <td>6/19/2018</td>\n",
       "      <td>USD</td>\n",
       "      <td>6</td>\n",
       "      <td>15</td>\n",
       "      <td>259</td>\n",
       "      <td>12</td>\n",
       "      <td>5</td>\n",
       "      <td>0.075</td>\n",
       "      <td>1,963.10</td>\n",
       "      <td>1,001.18</td>\n",
       "    </tr>\n",
       "    <tr>\n",
       "      <th>1</th>\n",
       "      <td>SO - 000102</td>\n",
       "      <td>Online</td>\n",
       "      <td>WARE-NMK1003</td>\n",
       "      <td>12/31/2017</td>\n",
       "      <td>5/31/2018</td>\n",
       "      <td>6/22/2018</td>\n",
       "      <td>7/2/2018</td>\n",
       "      <td>USD</td>\n",
       "      <td>14</td>\n",
       "      <td>20</td>\n",
       "      <td>196</td>\n",
       "      <td>27</td>\n",
       "      <td>3</td>\n",
       "      <td>0.075</td>\n",
       "      <td>3,939.60</td>\n",
       "      <td>3,348.66</td>\n",
       "    </tr>\n",
       "    <tr>\n",
       "      <th>2</th>\n",
       "      <td>SO - 000103</td>\n",
       "      <td>Distributor</td>\n",
       "      <td>WARE-UHY1004</td>\n",
       "      <td>12/31/2017</td>\n",
       "      <td>5/31/2018</td>\n",
       "      <td>6/21/2018</td>\n",
       "      <td>7/1/2018</td>\n",
       "      <td>USD</td>\n",
       "      <td>21</td>\n",
       "      <td>16</td>\n",
       "      <td>213</td>\n",
       "      <td>16</td>\n",
       "      <td>1</td>\n",
       "      <td>0.050</td>\n",
       "      <td>1,775.50</td>\n",
       "      <td>781.22</td>\n",
       "    </tr>\n",
       "    <tr>\n",
       "      <th>3</th>\n",
       "      <td>SO - 000104</td>\n",
       "      <td>Wholesale</td>\n",
       "      <td>WARE-NMK1003</td>\n",
       "      <td>12/31/2017</td>\n",
       "      <td>5/31/2018</td>\n",
       "      <td>6/2/2018</td>\n",
       "      <td>6/7/2018</td>\n",
       "      <td>USD</td>\n",
       "      <td>28</td>\n",
       "      <td>48</td>\n",
       "      <td>107</td>\n",
       "      <td>23</td>\n",
       "      <td>8</td>\n",
       "      <td>0.075</td>\n",
       "      <td>2,324.90</td>\n",
       "      <td>1,464.69</td>\n",
       "    </tr>\n",
       "    <tr>\n",
       "      <th>4</th>\n",
       "      <td>SO - 000105</td>\n",
       "      <td>Distributor</td>\n",
       "      <td>WARE-NMK1003</td>\n",
       "      <td>4/10/2018</td>\n",
       "      <td>5/31/2018</td>\n",
       "      <td>6/16/2018</td>\n",
       "      <td>6/26/2018</td>\n",
       "      <td>USD</td>\n",
       "      <td>22</td>\n",
       "      <td>49</td>\n",
       "      <td>111</td>\n",
       "      <td>26</td>\n",
       "      <td>8</td>\n",
       "      <td>0.100</td>\n",
       "      <td>1,822.40</td>\n",
       "      <td>1,476.14</td>\n",
       "    </tr>\n",
       "  </tbody>\n",
       "</table>\n",
       "</div>"
      ],
      "text/plain": [
       "   OrderNumber Sales Channel WarehouseCode ProcuredDate  OrderDate   ShipDate  \\\n",
       "0  SO - 000101      In-Store  WARE-UHY1004   12/31/2017  5/31/2018  6/14/2018   \n",
       "1  SO - 000102        Online  WARE-NMK1003   12/31/2017  5/31/2018  6/22/2018   \n",
       "2  SO - 000103   Distributor  WARE-UHY1004   12/31/2017  5/31/2018  6/21/2018   \n",
       "3  SO - 000104     Wholesale  WARE-NMK1003   12/31/2017  5/31/2018   6/2/2018   \n",
       "4  SO - 000105   Distributor  WARE-NMK1003    4/10/2018  5/31/2018  6/16/2018   \n",
       "\n",
       "  DeliveryDate CurrencyCode  _SalesTeamID  _CustomerID  _StoreID  _ProductID  \\\n",
       "0    6/19/2018          USD             6           15       259          12   \n",
       "1     7/2/2018          USD            14           20       196          27   \n",
       "2     7/1/2018          USD            21           16       213          16   \n",
       "3     6/7/2018          USD            28           48       107          23   \n",
       "4    6/26/2018          USD            22           49       111          26   \n",
       "\n",
       "   Order Quantity  Discount Applied Unit Price Unit Cost  \n",
       "0               5             0.075   1,963.10  1,001.18  \n",
       "1               3             0.075   3,939.60  3,348.66  \n",
       "2               1             0.050   1,775.50    781.22  \n",
       "3               8             0.075   2,324.90  1,464.69  \n",
       "4               8             0.100   1,822.40  1,476.14  "
      ]
     },
     "execution_count": 5,
     "metadata": {},
     "output_type": "execute_result"
    }
   ],
   "source": [
    "Sales.head()"
   ]
  },
  {
   "cell_type": "code",
   "execution_count": 6,
   "id": "f9b97c19",
   "metadata": {},
   "outputs": [
    {
     "data": {
      "text/plain": [
       "OrderNumber          object\n",
       "Sales Channel        object\n",
       "WarehouseCode        object\n",
       "ProcuredDate         object\n",
       "OrderDate            object\n",
       "ShipDate             object\n",
       "DeliveryDate         object\n",
       "CurrencyCode         object\n",
       "_SalesTeamID          int64\n",
       "_CustomerID           int64\n",
       "_StoreID              int64\n",
       "_ProductID            int64\n",
       "Order Quantity        int64\n",
       "Discount Applied    float64\n",
       "Unit Price           object\n",
       "Unit Cost            object\n",
       "dtype: object"
      ]
     },
     "execution_count": 6,
     "metadata": {},
     "output_type": "execute_result"
    }
   ],
   "source": [
    "Sales.dtypes"
   ]
  },
  {
   "cell_type": "code",
   "execution_count": 7,
   "id": "bd00e6c5",
   "metadata": {},
   "outputs": [],
   "source": [
    "Sales['OrderDate']=pd.to_datetime(Sales['OrderDate'])"
   ]
  },
  {
   "cell_type": "code",
   "execution_count": 8,
   "id": "e0dba887",
   "metadata": {},
   "outputs": [],
   "source": [
    "Sales['ShipDate']=pd.to_datetime(Sales['ShipDate'])"
   ]
  },
  {
   "cell_type": "code",
   "execution_count": 9,
   "id": "35d6f283",
   "metadata": {},
   "outputs": [],
   "source": [
    "Sales['ProcuredDate']=pd.to_datetime(Sales['ProcuredDate'])"
   ]
  },
  {
   "cell_type": "code",
   "execution_count": 10,
   "id": "0947eb0d",
   "metadata": {},
   "outputs": [],
   "source": [
    "Sales['DeliveryDate']=pd.to_datetime(Sales['DeliveryDate'])"
   ]
  },
  {
   "cell_type": "code",
   "execution_count": 11,
   "id": "a5c9d18c",
   "metadata": {},
   "outputs": [
    {
     "data": {
      "text/plain": [
       "OrderNumber                 object\n",
       "Sales Channel               object\n",
       "WarehouseCode               object\n",
       "ProcuredDate        datetime64[ns]\n",
       "OrderDate           datetime64[ns]\n",
       "ShipDate            datetime64[ns]\n",
       "DeliveryDate        datetime64[ns]\n",
       "CurrencyCode                object\n",
       "_SalesTeamID                 int64\n",
       "_CustomerID                  int64\n",
       "_StoreID                     int64\n",
       "_ProductID                   int64\n",
       "Order Quantity               int64\n",
       "Discount Applied           float64\n",
       "Unit Price                  object\n",
       "Unit Cost                   object\n",
       "dtype: object"
      ]
     },
     "execution_count": 11,
     "metadata": {},
     "output_type": "execute_result"
    }
   ],
   "source": [
    "Sales.dtypes"
   ]
  },
  {
   "cell_type": "code",
   "execution_count": 12,
   "id": "a415c285",
   "metadata": {},
   "outputs": [],
   "source": [
    "dimCus = pd.read_csv(\"C:/Users/IT EXPERT/Desktop/Datawarehouse/Datasets/Customer.csv\")"
   ]
  },
  {
   "cell_type": "code",
   "execution_count": 13,
   "id": "228241e8",
   "metadata": {},
   "outputs": [
    {
     "data": {
      "text/plain": [
       "(50, 2)"
      ]
     },
     "execution_count": 13,
     "metadata": {},
     "output_type": "execute_result"
    }
   ],
   "source": [
    "dimCus.shape"
   ]
  },
  {
   "cell_type": "code",
   "execution_count": 14,
   "id": "1a82697d",
   "metadata": {},
   "outputs": [
    {
     "data": {
      "text/html": [
       "<div>\n",
       "<style scoped>\n",
       "    .dataframe tbody tr th:only-of-type {\n",
       "        vertical-align: middle;\n",
       "    }\n",
       "\n",
       "    .dataframe tbody tr th {\n",
       "        vertical-align: top;\n",
       "    }\n",
       "\n",
       "    .dataframe thead th {\n",
       "        text-align: right;\n",
       "    }\n",
       "</style>\n",
       "<table border=\"1\" class=\"dataframe\">\n",
       "  <thead>\n",
       "    <tr style=\"text-align: right;\">\n",
       "      <th></th>\n",
       "      <th>_CustomerID</th>\n",
       "      <th>Customer Names</th>\n",
       "    </tr>\n",
       "  </thead>\n",
       "  <tbody>\n",
       "    <tr>\n",
       "      <th>0</th>\n",
       "      <td>1</td>\n",
       "      <td>Avon Corp</td>\n",
       "    </tr>\n",
       "    <tr>\n",
       "      <th>1</th>\n",
       "      <td>2</td>\n",
       "      <td>WakeFern</td>\n",
       "    </tr>\n",
       "    <tr>\n",
       "      <th>2</th>\n",
       "      <td>3</td>\n",
       "      <td>Elorac, Corp</td>\n",
       "    </tr>\n",
       "    <tr>\n",
       "      <th>3</th>\n",
       "      <td>4</td>\n",
       "      <td>ETUDE Ltd</td>\n",
       "    </tr>\n",
       "    <tr>\n",
       "      <th>4</th>\n",
       "      <td>5</td>\n",
       "      <td>Procter Corp</td>\n",
       "    </tr>\n",
       "  </tbody>\n",
       "</table>\n",
       "</div>"
      ],
      "text/plain": [
       "   _CustomerID Customer Names\n",
       "0            1      Avon Corp\n",
       "1            2      WakeFern \n",
       "2            3   Elorac, Corp\n",
       "3            4      ETUDE Ltd\n",
       "4            5   Procter Corp"
      ]
     },
     "execution_count": 14,
     "metadata": {},
     "output_type": "execute_result"
    }
   ],
   "source": [
    "dimCus.head()"
   ]
  },
  {
   "cell_type": "code",
   "execution_count": 15,
   "id": "bcc8a449",
   "metadata": {},
   "outputs": [
    {
     "data": {
      "text/plain": [
       "Index(['_CustomerID', 'Customer Names'], dtype='object')"
      ]
     },
     "execution_count": 15,
     "metadata": {},
     "output_type": "execute_result"
    }
   ],
   "source": [
    "dimCus.columns"
   ]
  },
  {
   "cell_type": "code",
   "execution_count": 16,
   "id": "a6d08dd1",
   "metadata": {},
   "outputs": [
    {
     "data": {
      "text/plain": [
       "_CustomerID        int64\n",
       "Customer Names    object\n",
       "dtype: object"
      ]
     },
     "execution_count": 16,
     "metadata": {},
     "output_type": "execute_result"
    }
   ],
   "source": [
    "dimCus.dtypes"
   ]
  },
  {
   "cell_type": "code",
   "execution_count": 17,
   "id": "70311b8e",
   "metadata": {},
   "outputs": [],
   "source": [
    "dimLoc = pd.read_csv(\"C:/Users/IT EXPERT/Desktop/Datawarehouse/Datasets/storelocation.csv\")"
   ]
  },
  {
   "cell_type": "code",
   "execution_count": 18,
   "id": "1c310f69",
   "metadata": {},
   "outputs": [
    {
     "data": {
      "text/plain": [
       "(367, 15)"
      ]
     },
     "execution_count": 18,
     "metadata": {},
     "output_type": "execute_result"
    }
   ],
   "source": [
    "dimLoc.shape"
   ]
  },
  {
   "cell_type": "code",
   "execution_count": 19,
   "id": "d1fb3a17",
   "metadata": {},
   "outputs": [
    {
     "data": {
      "text/html": [
       "<div>\n",
       "<style scoped>\n",
       "    .dataframe tbody tr th:only-of-type {\n",
       "        vertical-align: middle;\n",
       "    }\n",
       "\n",
       "    .dataframe tbody tr th {\n",
       "        vertical-align: top;\n",
       "    }\n",
       "\n",
       "    .dataframe thead th {\n",
       "        text-align: right;\n",
       "    }\n",
       "</style>\n",
       "<table border=\"1\" class=\"dataframe\">\n",
       "  <thead>\n",
       "    <tr style=\"text-align: right;\">\n",
       "      <th></th>\n",
       "      <th>_StoreID</th>\n",
       "      <th>City Name</th>\n",
       "      <th>County</th>\n",
       "      <th>StateCode</th>\n",
       "      <th>State</th>\n",
       "      <th>Type</th>\n",
       "      <th>Latitude</th>\n",
       "      <th>Longitude</th>\n",
       "      <th>AreaCode</th>\n",
       "      <th>Population</th>\n",
       "      <th>Household Income</th>\n",
       "      <th>Median Income</th>\n",
       "      <th>Land Area</th>\n",
       "      <th>Water Area</th>\n",
       "      <th>Time Zone</th>\n",
       "    </tr>\n",
       "  </thead>\n",
       "  <tbody>\n",
       "    <tr>\n",
       "      <th>0</th>\n",
       "      <td>1</td>\n",
       "      <td>Birmingham</td>\n",
       "      <td>Shelby County/Jefferson County</td>\n",
       "      <td>AL</td>\n",
       "      <td>Alabama</td>\n",
       "      <td>City</td>\n",
       "      <td>33.52744</td>\n",
       "      <td>-86.79905</td>\n",
       "      <td>205</td>\n",
       "      <td>212461</td>\n",
       "      <td>89972</td>\n",
       "      <td>31061</td>\n",
       "      <td>378353942</td>\n",
       "      <td>6591013</td>\n",
       "      <td>America/Chicago</td>\n",
       "    </tr>\n",
       "    <tr>\n",
       "      <th>1</th>\n",
       "      <td>2</td>\n",
       "      <td>Huntsville</td>\n",
       "      <td>Limestone County/Madison County</td>\n",
       "      <td>AL</td>\n",
       "      <td>Alabama</td>\n",
       "      <td>City</td>\n",
       "      <td>34.69901</td>\n",
       "      <td>-86.67298</td>\n",
       "      <td>256</td>\n",
       "      <td>190582</td>\n",
       "      <td>78554</td>\n",
       "      <td>48775</td>\n",
       "      <td>552604579</td>\n",
       "      <td>3452021</td>\n",
       "      <td>America/Chicago</td>\n",
       "    </tr>\n",
       "    <tr>\n",
       "      <th>2</th>\n",
       "      <td>3</td>\n",
       "      <td>Mobile</td>\n",
       "      <td>Mobile County</td>\n",
       "      <td>AL</td>\n",
       "      <td>Alabama</td>\n",
       "      <td>City</td>\n",
       "      <td>30.69436</td>\n",
       "      <td>-88.04305</td>\n",
       "      <td>251</td>\n",
       "      <td>194288</td>\n",
       "      <td>76170</td>\n",
       "      <td>38776</td>\n",
       "      <td>361044263</td>\n",
       "      <td>105325210</td>\n",
       "      <td>America/Chicago</td>\n",
       "    </tr>\n",
       "    <tr>\n",
       "      <th>3</th>\n",
       "      <td>4</td>\n",
       "      <td>Montgomery</td>\n",
       "      <td>Montgomery County</td>\n",
       "      <td>AL</td>\n",
       "      <td>Alabama</td>\n",
       "      <td>City</td>\n",
       "      <td>32.36681</td>\n",
       "      <td>-86.29997</td>\n",
       "      <td>334</td>\n",
       "      <td>200602</td>\n",
       "      <td>79866</td>\n",
       "      <td>42927</td>\n",
       "      <td>413985435</td>\n",
       "      <td>4411954</td>\n",
       "      <td>America/Chicago</td>\n",
       "    </tr>\n",
       "    <tr>\n",
       "      <th>4</th>\n",
       "      <td>5</td>\n",
       "      <td>Little Rock</td>\n",
       "      <td>Pulaski County</td>\n",
       "      <td>AR</td>\n",
       "      <td>Arkansas</td>\n",
       "      <td>City</td>\n",
       "      <td>34.74648</td>\n",
       "      <td>-92.28959</td>\n",
       "      <td>501</td>\n",
       "      <td>197992</td>\n",
       "      <td>79902</td>\n",
       "      <td>46085</td>\n",
       "      <td>307398785</td>\n",
       "      <td>6758644</td>\n",
       "      <td>America/Chicago</td>\n",
       "    </tr>\n",
       "  </tbody>\n",
       "</table>\n",
       "</div>"
      ],
      "text/plain": [
       "   _StoreID    City Name                           County StateCode     State  \\\n",
       "0         1   Birmingham   Shelby County/Jefferson County        AL   Alabama   \n",
       "1         2   Huntsville  Limestone County/Madison County        AL   Alabama   \n",
       "2         3       Mobile                    Mobile County        AL   Alabama   \n",
       "3         4   Montgomery                Montgomery County        AL   Alabama   \n",
       "4         5  Little Rock                   Pulaski County        AR  Arkansas   \n",
       "\n",
       "   Type  Latitude  Longitude  AreaCode  Population  Household Income  \\\n",
       "0  City  33.52744  -86.79905       205      212461             89972   \n",
       "1  City  34.69901  -86.67298       256      190582             78554   \n",
       "2  City  30.69436  -88.04305       251      194288             76170   \n",
       "3  City  32.36681  -86.29997       334      200602             79866   \n",
       "4  City  34.74648  -92.28959       501      197992             79902   \n",
       "\n",
       "   Median Income  Land Area  Water Area        Time Zone  \n",
       "0          31061  378353942     6591013  America/Chicago  \n",
       "1          48775  552604579     3452021  America/Chicago  \n",
       "2          38776  361044263   105325210  America/Chicago  \n",
       "3          42927  413985435     4411954  America/Chicago  \n",
       "4          46085  307398785     6758644  America/Chicago  "
      ]
     },
     "execution_count": 19,
     "metadata": {},
     "output_type": "execute_result"
    }
   ],
   "source": [
    "dimLoc.head()"
   ]
  },
  {
   "cell_type": "code",
   "execution_count": 20,
   "id": "59775ced",
   "metadata": {},
   "outputs": [
    {
     "data": {
      "text/plain": [
       "Index(['_StoreID', 'City Name', 'County', 'StateCode', 'State', 'Type',\n",
       "       'Latitude', 'Longitude', 'AreaCode', 'Population', 'Household Income',\n",
       "       'Median Income', 'Land Area', 'Water Area', 'Time Zone'],\n",
       "      dtype='object')"
      ]
     },
     "execution_count": 20,
     "metadata": {},
     "output_type": "execute_result"
    }
   ],
   "source": [
    "dimLoc.columns"
   ]
  },
  {
   "cell_type": "code",
   "execution_count": 21,
   "id": "ace98abb",
   "metadata": {},
   "outputs": [
    {
     "data": {
      "text/plain": [
       "_StoreID              int64\n",
       "City Name            object\n",
       "County               object\n",
       "StateCode            object\n",
       "State                object\n",
       "Type                 object\n",
       "Latitude            float64\n",
       "Longitude           float64\n",
       "AreaCode              int64\n",
       "Population            int64\n",
       "Household Income      int64\n",
       "Median Income         int64\n",
       "Land Area             int64\n",
       "Water Area            int64\n",
       "Time Zone            object\n",
       "dtype: object"
      ]
     },
     "execution_count": 21,
     "metadata": {},
     "output_type": "execute_result"
    }
   ],
   "source": [
    "dimLoc.dtypes"
   ]
  },
  {
   "cell_type": "code",
   "execution_count": 22,
   "id": "40643486",
   "metadata": {},
   "outputs": [],
   "source": [
    "dimPro = pd.read_csv(\"C:/Users/IT EXPERT/Desktop/Datawarehouse/Datasets/Product.csv\")"
   ]
  },
  {
   "cell_type": "code",
   "execution_count": 23,
   "id": "c5bb8df8",
   "metadata": {},
   "outputs": [
    {
     "data": {
      "text/plain": [
       "(47, 2)"
      ]
     },
     "execution_count": 23,
     "metadata": {},
     "output_type": "execute_result"
    }
   ],
   "source": [
    "dimPro.shape"
   ]
  },
  {
   "cell_type": "code",
   "execution_count": 24,
   "id": "bf13d88c",
   "metadata": {},
   "outputs": [
    {
     "data": {
      "text/html": [
       "<div>\n",
       "<style scoped>\n",
       "    .dataframe tbody tr th:only-of-type {\n",
       "        vertical-align: middle;\n",
       "    }\n",
       "\n",
       "    .dataframe tbody tr th {\n",
       "        vertical-align: top;\n",
       "    }\n",
       "\n",
       "    .dataframe thead th {\n",
       "        text-align: right;\n",
       "    }\n",
       "</style>\n",
       "<table border=\"1\" class=\"dataframe\">\n",
       "  <thead>\n",
       "    <tr style=\"text-align: right;\">\n",
       "      <th></th>\n",
       "      <th>_ProductID</th>\n",
       "      <th>Product Name</th>\n",
       "    </tr>\n",
       "  </thead>\n",
       "  <tbody>\n",
       "    <tr>\n",
       "      <th>0</th>\n",
       "      <td>1</td>\n",
       "      <td>Cookware</td>\n",
       "    </tr>\n",
       "    <tr>\n",
       "      <th>1</th>\n",
       "      <td>2</td>\n",
       "      <td>Photo Frames</td>\n",
       "    </tr>\n",
       "    <tr>\n",
       "      <th>2</th>\n",
       "      <td>3</td>\n",
       "      <td>Table Lamps</td>\n",
       "    </tr>\n",
       "    <tr>\n",
       "      <th>3</th>\n",
       "      <td>4</td>\n",
       "      <td>Serveware</td>\n",
       "    </tr>\n",
       "    <tr>\n",
       "      <th>4</th>\n",
       "      <td>5</td>\n",
       "      <td>Bathroom Furniture</td>\n",
       "    </tr>\n",
       "  </tbody>\n",
       "</table>\n",
       "</div>"
      ],
      "text/plain": [
       "   _ProductID        Product Name\n",
       "0           1            Cookware\n",
       "1           2        Photo Frames\n",
       "2           3         Table Lamps\n",
       "3           4           Serveware\n",
       "4           5  Bathroom Furniture"
      ]
     },
     "execution_count": 24,
     "metadata": {},
     "output_type": "execute_result"
    }
   ],
   "source": [
    "dimPro.head()"
   ]
  },
  {
   "cell_type": "code",
   "execution_count": 25,
   "id": "02f5a60a",
   "metadata": {},
   "outputs": [
    {
     "data": {
      "text/plain": [
       "Index(['_ProductID', 'Product Name'], dtype='object')"
      ]
     },
     "execution_count": 25,
     "metadata": {},
     "output_type": "execute_result"
    }
   ],
   "source": [
    "dimPro.columns"
   ]
  },
  {
   "cell_type": "code",
   "execution_count": 26,
   "id": "c384de31",
   "metadata": {},
   "outputs": [
    {
     "data": {
      "text/plain": [
       "_ProductID       int64\n",
       "Product Name    object\n",
       "dtype: object"
      ]
     },
     "execution_count": 26,
     "metadata": {},
     "output_type": "execute_result"
    }
   ],
   "source": [
    "dimPro.dtypes"
   ]
  },
  {
   "cell_type": "code",
   "execution_count": 27,
   "id": "9ad39575",
   "metadata": {},
   "outputs": [],
   "source": [
    "dimReg = pd.read_csv(\"C:/Users/IT EXPERT/Desktop/Datawarehouse/Datasets/region.csv\")"
   ]
  },
  {
   "cell_type": "code",
   "execution_count": 28,
   "id": "d95daf7f",
   "metadata": {},
   "outputs": [
    {
     "data": {
      "text/plain": [
       "(48, 3)"
      ]
     },
     "execution_count": 28,
     "metadata": {},
     "output_type": "execute_result"
    }
   ],
   "source": [
    "dimReg.shape"
   ]
  },
  {
   "cell_type": "code",
   "execution_count": 29,
   "id": "0f18d537",
   "metadata": {},
   "outputs": [
    {
     "data": {
      "text/plain": [
       "Index(['StateCode', 'State', 'Region'], dtype='object')"
      ]
     },
     "execution_count": 29,
     "metadata": {},
     "output_type": "execute_result"
    }
   ],
   "source": [
    "dimReg.columns"
   ]
  },
  {
   "cell_type": "code",
   "execution_count": 30,
   "id": "3b8e4e14",
   "metadata": {},
   "outputs": [
    {
     "data": {
      "text/html": [
       "<div>\n",
       "<style scoped>\n",
       "    .dataframe tbody tr th:only-of-type {\n",
       "        vertical-align: middle;\n",
       "    }\n",
       "\n",
       "    .dataframe tbody tr th {\n",
       "        vertical-align: top;\n",
       "    }\n",
       "\n",
       "    .dataframe thead th {\n",
       "        text-align: right;\n",
       "    }\n",
       "</style>\n",
       "<table border=\"1\" class=\"dataframe\">\n",
       "  <thead>\n",
       "    <tr style=\"text-align: right;\">\n",
       "      <th></th>\n",
       "      <th>StateCode</th>\n",
       "      <th>State</th>\n",
       "      <th>Region</th>\n",
       "    </tr>\n",
       "  </thead>\n",
       "  <tbody>\n",
       "    <tr>\n",
       "      <th>0</th>\n",
       "      <td>AL</td>\n",
       "      <td>Alabama</td>\n",
       "      <td>South</td>\n",
       "    </tr>\n",
       "    <tr>\n",
       "      <th>1</th>\n",
       "      <td>AR</td>\n",
       "      <td>Arkansas</td>\n",
       "      <td>South</td>\n",
       "    </tr>\n",
       "    <tr>\n",
       "      <th>2</th>\n",
       "      <td>AZ</td>\n",
       "      <td>Arizona</td>\n",
       "      <td>West</td>\n",
       "    </tr>\n",
       "    <tr>\n",
       "      <th>3</th>\n",
       "      <td>CA</td>\n",
       "      <td>California</td>\n",
       "      <td>West</td>\n",
       "    </tr>\n",
       "    <tr>\n",
       "      <th>4</th>\n",
       "      <td>CO</td>\n",
       "      <td>Colorado</td>\n",
       "      <td>West</td>\n",
       "    </tr>\n",
       "  </tbody>\n",
       "</table>\n",
       "</div>"
      ],
      "text/plain": [
       "  StateCode       State Region\n",
       "0        AL     Alabama  South\n",
       "1        AR    Arkansas  South\n",
       "2        AZ     Arizona   West\n",
       "3        CA  California   West\n",
       "4        CO    Colorado   West"
      ]
     },
     "execution_count": 30,
     "metadata": {},
     "output_type": "execute_result"
    }
   ],
   "source": [
    "dimReg.head()"
   ]
  },
  {
   "cell_type": "code",
   "execution_count": 31,
   "id": "fe31572d",
   "metadata": {},
   "outputs": [
    {
     "data": {
      "text/plain": [
       "StateCode    object\n",
       "State        object\n",
       "Region       object\n",
       "dtype: object"
      ]
     },
     "execution_count": 31,
     "metadata": {},
     "output_type": "execute_result"
    }
   ],
   "source": [
    "dimReg.dtypes"
   ]
  },
  {
   "cell_type": "code",
   "execution_count": 32,
   "id": "2ad99787",
   "metadata": {},
   "outputs": [],
   "source": [
    "dimSalesTeam = pd.read_csv(\"C:/Users/IT EXPERT/Desktop/Datawarehouse/Datasets/salesteam.csv\")"
   ]
  },
  {
   "cell_type": "code",
   "execution_count": 33,
   "id": "d2472435",
   "metadata": {},
   "outputs": [
    {
     "data": {
      "text/plain": [
       "(28, 3)"
      ]
     },
     "execution_count": 33,
     "metadata": {},
     "output_type": "execute_result"
    }
   ],
   "source": [
    "dimSalesTeam.shape"
   ]
  },
  {
   "cell_type": "code",
   "execution_count": 34,
   "id": "2717f061",
   "metadata": {},
   "outputs": [
    {
     "data": {
      "text/plain": [
       "Index(['_SalesTeamID', 'Sales Team', 'Region'], dtype='object')"
      ]
     },
     "execution_count": 34,
     "metadata": {},
     "output_type": "execute_result"
    }
   ],
   "source": [
    "dimSalesTeam.columns"
   ]
  },
  {
   "cell_type": "code",
   "execution_count": 35,
   "id": "130abfa9",
   "metadata": {},
   "outputs": [
    {
     "data": {
      "text/html": [
       "<div>\n",
       "<style scoped>\n",
       "    .dataframe tbody tr th:only-of-type {\n",
       "        vertical-align: middle;\n",
       "    }\n",
       "\n",
       "    .dataframe tbody tr th {\n",
       "        vertical-align: top;\n",
       "    }\n",
       "\n",
       "    .dataframe thead th {\n",
       "        text-align: right;\n",
       "    }\n",
       "</style>\n",
       "<table border=\"1\" class=\"dataframe\">\n",
       "  <thead>\n",
       "    <tr style=\"text-align: right;\">\n",
       "      <th></th>\n",
       "      <th>_SalesTeamID</th>\n",
       "      <th>Sales Team</th>\n",
       "      <th>Region</th>\n",
       "    </tr>\n",
       "  </thead>\n",
       "  <tbody>\n",
       "    <tr>\n",
       "      <th>0</th>\n",
       "      <td>1</td>\n",
       "      <td>Adam Hernandez</td>\n",
       "      <td>Northeast</td>\n",
       "    </tr>\n",
       "    <tr>\n",
       "      <th>1</th>\n",
       "      <td>2</td>\n",
       "      <td>Keith Griffin</td>\n",
       "      <td>Northeast</td>\n",
       "    </tr>\n",
       "    <tr>\n",
       "      <th>2</th>\n",
       "      <td>3</td>\n",
       "      <td>Jerry Green</td>\n",
       "      <td>West</td>\n",
       "    </tr>\n",
       "    <tr>\n",
       "      <th>3</th>\n",
       "      <td>4</td>\n",
       "      <td>Chris Armstrong</td>\n",
       "      <td>Northeast</td>\n",
       "    </tr>\n",
       "    <tr>\n",
       "      <th>4</th>\n",
       "      <td>5</td>\n",
       "      <td>Stephen Payne</td>\n",
       "      <td>South</td>\n",
       "    </tr>\n",
       "  </tbody>\n",
       "</table>\n",
       "</div>"
      ],
      "text/plain": [
       "   _SalesTeamID       Sales Team     Region\n",
       "0             1   Adam Hernandez  Northeast\n",
       "1             2    Keith Griffin  Northeast\n",
       "2             3      Jerry Green       West\n",
       "3             4  Chris Armstrong  Northeast\n",
       "4             5    Stephen Payne      South"
      ]
     },
     "execution_count": 35,
     "metadata": {},
     "output_type": "execute_result"
    }
   ],
   "source": [
    "dimSalesTeam.head()"
   ]
  },
  {
   "cell_type": "code",
   "execution_count": 36,
   "id": "ca89a1be",
   "metadata": {},
   "outputs": [
    {
     "data": {
      "text/plain": [
       "_SalesTeamID     int64\n",
       "Sales Team      object\n",
       "Region          object\n",
       "dtype: object"
      ]
     },
     "execution_count": 36,
     "metadata": {},
     "output_type": "execute_result"
    }
   ],
   "source": [
    "dimSalesTeam.dtypes"
   ]
  },
  {
   "cell_type": "markdown",
   "id": "6db23837",
   "metadata": {},
   "source": [
    "## Top 3 Products "
   ]
  },
  {
   "cell_type": "code",
   "execution_count": 37,
   "id": "4f13086d",
   "metadata": {},
   "outputs": [
    {
     "data": {
      "text/html": [
       "<div>\n",
       "<style scoped>\n",
       "    .dataframe tbody tr th:only-of-type {\n",
       "        vertical-align: middle;\n",
       "    }\n",
       "\n",
       "    .dataframe tbody tr th {\n",
       "        vertical-align: top;\n",
       "    }\n",
       "\n",
       "    .dataframe thead th {\n",
       "        text-align: right;\n",
       "    }\n",
       "</style>\n",
       "<table border=\"1\" class=\"dataframe\">\n",
       "  <thead>\n",
       "    <tr style=\"text-align: right;\">\n",
       "      <th></th>\n",
       "      <th>TotalQty</th>\n",
       "    </tr>\n",
       "    <tr>\n",
       "      <th>_ProductID</th>\n",
       "      <th></th>\n",
       "    </tr>\n",
       "  </thead>\n",
       "  <tbody>\n",
       "    <tr>\n",
       "      <th>1</th>\n",
       "      <td>681</td>\n",
       "    </tr>\n",
       "    <tr>\n",
       "      <th>2</th>\n",
       "      <td>819</td>\n",
       "    </tr>\n",
       "    <tr>\n",
       "      <th>3</th>\n",
       "      <td>764</td>\n",
       "    </tr>\n",
       "  </tbody>\n",
       "</table>\n",
       "</div>"
      ],
      "text/plain": [
       "            TotalQty\n",
       "_ProductID          \n",
       "1                681\n",
       "2                819\n",
       "3                764"
      ]
     },
     "execution_count": 37,
     "metadata": {},
     "output_type": "execute_result"
    }
   ],
   "source": [
    "top3 = Sales.groupby('_ProductID').agg(TotalQty = ('Order Quantity', 'sum'))\n",
    "top3.head(3)\n"
   ]
  },
  {
   "cell_type": "code",
   "execution_count": 38,
   "id": "15a73280",
   "metadata": {},
   "outputs": [
    {
     "data": {
      "text/html": [
       "<div>\n",
       "<style scoped>\n",
       "    .dataframe tbody tr th:only-of-type {\n",
       "        vertical-align: middle;\n",
       "    }\n",
       "\n",
       "    .dataframe tbody tr th {\n",
       "        vertical-align: top;\n",
       "    }\n",
       "\n",
       "    .dataframe thead th {\n",
       "        text-align: right;\n",
       "    }\n",
       "</style>\n",
       "<table border=\"1\" class=\"dataframe\">\n",
       "  <thead>\n",
       "    <tr style=\"text-align: right;\">\n",
       "      <th></th>\n",
       "      <th>TotalQty</th>\n",
       "    </tr>\n",
       "    <tr>\n",
       "      <th>_ProductID</th>\n",
       "      <th></th>\n",
       "    </tr>\n",
       "  </thead>\n",
       "  <tbody>\n",
       "    <tr>\n",
       "      <th>23</th>\n",
       "      <td>956</td>\n",
       "    </tr>\n",
       "    <tr>\n",
       "      <th>37</th>\n",
       "      <td>896</td>\n",
       "    </tr>\n",
       "    <tr>\n",
       "      <th>8</th>\n",
       "      <td>879</td>\n",
       "    </tr>\n",
       "  </tbody>\n",
       "</table>\n",
       "</div>"
      ],
      "text/plain": [
       "            TotalQty\n",
       "_ProductID          \n",
       "23               956\n",
       "37               896\n",
       "8                879"
      ]
     },
     "execution_count": 38,
     "metadata": {},
     "output_type": "execute_result"
    }
   ],
   "source": [
    "top3 = top3.nlargest(3, ['TotalQty'])\n",
    "top3\n"
   ]
  },
  {
   "cell_type": "code",
   "execution_count": 39,
   "id": "f7d6c16a",
   "metadata": {},
   "outputs": [
    {
     "data": {
      "text/html": [
       "<div>\n",
       "<style scoped>\n",
       "    .dataframe tbody tr th:only-of-type {\n",
       "        vertical-align: middle;\n",
       "    }\n",
       "\n",
       "    .dataframe tbody tr th {\n",
       "        vertical-align: top;\n",
       "    }\n",
       "\n",
       "    .dataframe thead th {\n",
       "        text-align: right;\n",
       "    }\n",
       "</style>\n",
       "<table border=\"1\" class=\"dataframe\">\n",
       "  <thead>\n",
       "    <tr style=\"text-align: right;\">\n",
       "      <th></th>\n",
       "      <th>_ProductID</th>\n",
       "      <th>TotalQty</th>\n",
       "      <th>Product Name</th>\n",
       "    </tr>\n",
       "  </thead>\n",
       "  <tbody>\n",
       "    <tr>\n",
       "      <th>0</th>\n",
       "      <td>23</td>\n",
       "      <td>956</td>\n",
       "      <td>Accessories</td>\n",
       "    </tr>\n",
       "    <tr>\n",
       "      <th>1</th>\n",
       "      <td>37</td>\n",
       "      <td>896</td>\n",
       "      <td>Platters</td>\n",
       "    </tr>\n",
       "    <tr>\n",
       "      <th>2</th>\n",
       "      <td>8</td>\n",
       "      <td>879</td>\n",
       "      <td>Cocktail Glasses</td>\n",
       "    </tr>\n",
       "  </tbody>\n",
       "</table>\n",
       "</div>"
      ],
      "text/plain": [
       "   _ProductID  TotalQty      Product Name\n",
       "0          23       956       Accessories\n",
       "1          37       896          Platters\n",
       "2           8       879  Cocktail Glasses"
      ]
     },
     "execution_count": 39,
     "metadata": {},
     "output_type": "execute_result"
    }
   ],
   "source": [
    "top3 = pd.merge(top3, dimPro, on='_ProductID')\n",
    "top3\n"
   ]
  },
  {
   "cell_type": "code",
   "execution_count": 40,
   "id": "b5fbd36c",
   "metadata": {},
   "outputs": [
    {
     "data": {
      "text/html": [
       "<div>\n",
       "<style scoped>\n",
       "    .dataframe tbody tr th:only-of-type {\n",
       "        vertical-align: middle;\n",
       "    }\n",
       "\n",
       "    .dataframe tbody tr th {\n",
       "        vertical-align: top;\n",
       "    }\n",
       "\n",
       "    .dataframe thead th {\n",
       "        text-align: right;\n",
       "    }\n",
       "</style>\n",
       "<table border=\"1\" class=\"dataframe\">\n",
       "  <thead>\n",
       "    <tr style=\"text-align: right;\">\n",
       "      <th></th>\n",
       "      <th>_ProductID</th>\n",
       "      <th>Product Name</th>\n",
       "      <th>TotalQty</th>\n",
       "    </tr>\n",
       "  </thead>\n",
       "  <tbody>\n",
       "    <tr>\n",
       "      <th>0</th>\n",
       "      <td>23</td>\n",
       "      <td>Accessories</td>\n",
       "      <td>956</td>\n",
       "    </tr>\n",
       "    <tr>\n",
       "      <th>1</th>\n",
       "      <td>37</td>\n",
       "      <td>Platters</td>\n",
       "      <td>896</td>\n",
       "    </tr>\n",
       "    <tr>\n",
       "      <th>2</th>\n",
       "      <td>8</td>\n",
       "      <td>Cocktail Glasses</td>\n",
       "      <td>879</td>\n",
       "    </tr>\n",
       "  </tbody>\n",
       "</table>\n",
       "</div>"
      ],
      "text/plain": [
       "   _ProductID      Product Name  TotalQty\n",
       "0          23       Accessories       956\n",
       "1          37          Platters       896\n",
       "2           8  Cocktail Glasses       879"
      ]
     },
     "execution_count": 40,
     "metadata": {},
     "output_type": "execute_result"
    }
   ],
   "source": [
    "top3 = top3[['_ProductID', 'Product Name', 'TotalQty']]\n",
    "top3\n"
   ]
  },
  {
   "cell_type": "code",
   "execution_count": 41,
   "id": "d9385341",
   "metadata": {},
   "outputs": [],
   "source": [
    "import matplotlib.pyplot as plt"
   ]
  },
  {
   "cell_type": "code",
   "execution_count": 42,
   "id": "a350d51f",
   "metadata": {},
   "outputs": [
    {
     "data": {
      "text/plain": [
       "<BarContainer object of 3 artists>"
      ]
     },
     "execution_count": 42,
     "metadata": {},
     "output_type": "execute_result"
    },
    {
     "data": {
      "image/png": "[encoded data removed]",
      "text/plain": [
       "<Figure size 720x288 with 1 Axes>"
      ]
     },
     "metadata": {
      "needs_background": "light"
     },
     "output_type": "display_data"
    }
   ],
   "source": [
    "plt.figure(figsize=(10,4))\n",
    "plt.title('Bar Plot')\n",
    "plt.xlabel('Product Name')\n",
    "plt.ylabel('TotalQty')\n",
    "plt.bar(top3['Product Name'],top3['TotalQty'],color='royalblue',alpha=0.7)"
   ]
  },
  {
   "cell_type": "markdown",
   "id": "25d011b0",
   "metadata": {},
   "source": [
    "## Top 3 sales team"
   ]
  },
  {
   "cell_type": "code",
   "execution_count": 43,
   "id": "e9214170",
   "metadata": {},
   "outputs": [
    {
     "data": {
      "text/html": [
       "<div>\n",
       "<style scoped>\n",
       "    .dataframe tbody tr th:only-of-type {\n",
       "        vertical-align: middle;\n",
       "    }\n",
       "\n",
       "    .dataframe tbody tr th {\n",
       "        vertical-align: top;\n",
       "    }\n",
       "\n",
       "    .dataframe thead th {\n",
       "        text-align: right;\n",
       "    }\n",
       "</style>\n",
       "<table border=\"1\" class=\"dataframe\">\n",
       "  <thead>\n",
       "    <tr style=\"text-align: right;\">\n",
       "      <th></th>\n",
       "      <th>OrderNumber</th>\n",
       "      <th>Sales Channel</th>\n",
       "      <th>WarehouseCode</th>\n",
       "      <th>ProcuredDate</th>\n",
       "      <th>OrderDate</th>\n",
       "      <th>ShipDate</th>\n",
       "      <th>DeliveryDate</th>\n",
       "      <th>CurrencyCode</th>\n",
       "      <th>_SalesTeamID</th>\n",
       "      <th>_CustomerID</th>\n",
       "      <th>_StoreID</th>\n",
       "      <th>_ProductID</th>\n",
       "      <th>Order Quantity</th>\n",
       "      <th>Discount Applied</th>\n",
       "      <th>Unit Price</th>\n",
       "      <th>Unit Cost</th>\n",
       "      <th>Sales Team</th>\n",
       "      <th>Region</th>\n",
       "    </tr>\n",
       "  </thead>\n",
       "  <tbody>\n",
       "    <tr>\n",
       "      <th>0</th>\n",
       "      <td>SO - 000101</td>\n",
       "      <td>In-Store</td>\n",
       "      <td>WARE-UHY1004</td>\n",
       "      <td>2017-12-31</td>\n",
       "      <td>2018-05-31</td>\n",
       "      <td>2018-06-14</td>\n",
       "      <td>2018-06-19</td>\n",
       "      <td>USD</td>\n",
       "      <td>6</td>\n",
       "      <td>15</td>\n",
       "      <td>259</td>\n",
       "      <td>12</td>\n",
       "      <td>5</td>\n",
       "      <td>0.075</td>\n",
       "      <td>1,963.10</td>\n",
       "      <td>1,001.18</td>\n",
       "      <td>Joshua Bennett</td>\n",
       "      <td>Northeast</td>\n",
       "    </tr>\n",
       "    <tr>\n",
       "      <th>1</th>\n",
       "      <td>SO - 000108</td>\n",
       "      <td>In-Store</td>\n",
       "      <td>WARE-PUJ1005</td>\n",
       "      <td>2018-04-10</td>\n",
       "      <td>2018-05-31</td>\n",
       "      <td>2018-06-26</td>\n",
       "      <td>2018-07-01</td>\n",
       "      <td>USD</td>\n",
       "      <td>6</td>\n",
       "      <td>9</td>\n",
       "      <td>280</td>\n",
       "      <td>46</td>\n",
       "      <td>5</td>\n",
       "      <td>0.050</td>\n",
       "      <td>1,815.70</td>\n",
       "      <td>1,525.19</td>\n",
       "      <td>Joshua Bennett</td>\n",
       "      <td>Northeast</td>\n",
       "    </tr>\n",
       "    <tr>\n",
       "      <th>2</th>\n",
       "      <td>SO - 000187</td>\n",
       "      <td>In-Store</td>\n",
       "      <td>WARE-MKL1006</td>\n",
       "      <td>2017-12-31</td>\n",
       "      <td>2018-06-11</td>\n",
       "      <td>2018-06-29</td>\n",
       "      <td>2018-07-01</td>\n",
       "      <td>USD</td>\n",
       "      <td>6</td>\n",
       "      <td>47</td>\n",
       "      <td>337</td>\n",
       "      <td>30</td>\n",
       "      <td>3</td>\n",
       "      <td>0.100</td>\n",
       "      <td>891.10</td>\n",
       "      <td>632.68</td>\n",
       "      <td>Joshua Bennett</td>\n",
       "      <td>Northeast</td>\n",
       "    </tr>\n",
       "    <tr>\n",
       "      <th>3</th>\n",
       "      <td>SO - 000211</td>\n",
       "      <td>In-Store</td>\n",
       "      <td>WARE-NMK1003</td>\n",
       "      <td>2018-04-10</td>\n",
       "      <td>2018-06-13</td>\n",
       "      <td>2018-07-08</td>\n",
       "      <td>2018-07-18</td>\n",
       "      <td>USD</td>\n",
       "      <td>6</td>\n",
       "      <td>40</td>\n",
       "      <td>186</td>\n",
       "      <td>27</td>\n",
       "      <td>7</td>\n",
       "      <td>0.200</td>\n",
       "      <td>2,659.90</td>\n",
       "      <td>1,675.74</td>\n",
       "      <td>Joshua Bennett</td>\n",
       "      <td>Northeast</td>\n",
       "    </tr>\n",
       "    <tr>\n",
       "      <th>4</th>\n",
       "      <td>SO - 000214</td>\n",
       "      <td>In-Store</td>\n",
       "      <td>WARE-PUJ1005</td>\n",
       "      <td>2018-04-10</td>\n",
       "      <td>2018-06-14</td>\n",
       "      <td>2018-07-06</td>\n",
       "      <td>2018-07-09</td>\n",
       "      <td>USD</td>\n",
       "      <td>6</td>\n",
       "      <td>25</td>\n",
       "      <td>288</td>\n",
       "      <td>32</td>\n",
       "      <td>7</td>\n",
       "      <td>0.150</td>\n",
       "      <td>3,932.90</td>\n",
       "      <td>1,691.15</td>\n",
       "      <td>Joshua Bennett</td>\n",
       "      <td>Northeast</td>\n",
       "    </tr>\n",
       "  </tbody>\n",
       "</table>\n",
       "</div>"
      ],
      "text/plain": [
       "   OrderNumber Sales Channel WarehouseCode ProcuredDate  OrderDate   ShipDate  \\\n",
       "0  SO - 000101      In-Store  WARE-UHY1004   2017-12-31 2018-05-31 2018-06-14   \n",
       "1  SO - 000108      In-Store  WARE-PUJ1005   2018-04-10 2018-05-31 2018-06-26   \n",
       "2  SO - 000187      In-Store  WARE-MKL1006   2017-12-31 2018-06-11 2018-06-29   \n",
       "3  SO - 000211      In-Store  WARE-NMK1003   2018-04-10 2018-06-13 2018-07-08   \n",
       "4  SO - 000214      In-Store  WARE-PUJ1005   2018-04-10 2018-06-14 2018-07-06   \n",
       "\n",
       "  DeliveryDate CurrencyCode  _SalesTeamID  _CustomerID  _StoreID  _ProductID  \\\n",
       "0   2018-06-19          USD             6           15       259          12   \n",
       "1   2018-07-01          USD             6            9       280          46   \n",
       "2   2018-07-01          USD             6           47       337          30   \n",
       "3   2018-07-18          USD             6           40       186          27   \n",
       "4   2018-07-09          USD             6           25       288          32   \n",
       "\n",
       "   Order Quantity  Discount Applied Unit Price Unit Cost      Sales Team  \\\n",
       "0               5             0.075   1,963.10  1,001.18  Joshua Bennett   \n",
       "1               5             0.050   1,815.70  1,525.19  Joshua Bennett   \n",
       "2               3             0.100     891.10    632.68  Joshua Bennett   \n",
       "3               7             0.200   2,659.90  1,675.74  Joshua Bennett   \n",
       "4               7             0.150   3,932.90  1,691.15  Joshua Bennett   \n",
       "\n",
       "      Region  \n",
       "0  Northeast  \n",
       "1  Northeast  \n",
       "2  Northeast  \n",
       "3  Northeast  \n",
       "4  Northeast  "
      ]
     },
     "execution_count": 43,
     "metadata": {},
     "output_type": "execute_result"
    }
   ],
   "source": [
    "SalesTeam_sale = pd.merge(Sales, dimSalesTeam, on='_SalesTeamID')\n",
    "SalesTeam_sale.head(5)\n"
   ]
  },
  {
   "cell_type": "code",
   "execution_count": 44,
   "id": "ddf8c5e4",
   "metadata": {},
   "outputs": [],
   "source": [
    "SalesTeam_sale = SalesTeam_sale[['_SalesTeamID','Sales Team','Order Quantity']]"
   ]
  },
  {
   "cell_type": "code",
   "execution_count": 45,
   "id": "10d7ea36",
   "metadata": {},
   "outputs": [
    {
     "data": {
      "text/html": [
       "<div>\n",
       "<style scoped>\n",
       "    .dataframe tbody tr th:only-of-type {\n",
       "        vertical-align: middle;\n",
       "    }\n",
       "\n",
       "    .dataframe tbody tr th {\n",
       "        vertical-align: top;\n",
       "    }\n",
       "\n",
       "    .dataframe thead th {\n",
       "        text-align: right;\n",
       "    }\n",
       "</style>\n",
       "<table border=\"1\" class=\"dataframe\">\n",
       "  <thead>\n",
       "    <tr style=\"text-align: right;\">\n",
       "      <th></th>\n",
       "      <th>_SalesTeamID</th>\n",
       "      <th>Sales Team</th>\n",
       "      <th>TotalQty</th>\n",
       "    </tr>\n",
       "  </thead>\n",
       "  <tbody>\n",
       "    <tr>\n",
       "      <th>0</th>\n",
       "      <td>1</td>\n",
       "      <td>Adam Hernandez</td>\n",
       "      <td>1366</td>\n",
       "    </tr>\n",
       "    <tr>\n",
       "      <th>1</th>\n",
       "      <td>2</td>\n",
       "      <td>Keith Griffin</td>\n",
       "      <td>1180</td>\n",
       "    </tr>\n",
       "    <tr>\n",
       "      <th>2</th>\n",
       "      <td>3</td>\n",
       "      <td>Jerry Green</td>\n",
       "      <td>1371</td>\n",
       "    </tr>\n",
       "    <tr>\n",
       "      <th>3</th>\n",
       "      <td>4</td>\n",
       "      <td>Chris Armstrong</td>\n",
       "      <td>1283</td>\n",
       "    </tr>\n",
       "    <tr>\n",
       "      <th>4</th>\n",
       "      <td>5</td>\n",
       "      <td>Stephen Payne</td>\n",
       "      <td>1249</td>\n",
       "    </tr>\n",
       "    <tr>\n",
       "      <th>5</th>\n",
       "      <td>6</td>\n",
       "      <td>Joshua Bennett</td>\n",
       "      <td>1163</td>\n",
       "    </tr>\n",
       "    <tr>\n",
       "      <th>6</th>\n",
       "      <td>7</td>\n",
       "      <td>Shawn Cook</td>\n",
       "      <td>1306</td>\n",
       "    </tr>\n",
       "    <tr>\n",
       "      <th>7</th>\n",
       "      <td>8</td>\n",
       "      <td>George Lewis</td>\n",
       "      <td>1409</td>\n",
       "    </tr>\n",
       "    <tr>\n",
       "      <th>8</th>\n",
       "      <td>9</td>\n",
       "      <td>Joshua Ryan</td>\n",
       "      <td>1292</td>\n",
       "    </tr>\n",
       "    <tr>\n",
       "      <th>9</th>\n",
       "      <td>10</td>\n",
       "      <td>Jonathan Hawkins</td>\n",
       "      <td>1219</td>\n",
       "    </tr>\n",
       "    <tr>\n",
       "      <th>10</th>\n",
       "      <td>11</td>\n",
       "      <td>Joshua Little</td>\n",
       "      <td>1318</td>\n",
       "    </tr>\n",
       "    <tr>\n",
       "      <th>11</th>\n",
       "      <td>12</td>\n",
       "      <td>Carl Nguyen</td>\n",
       "      <td>1393</td>\n",
       "    </tr>\n",
       "    <tr>\n",
       "      <th>12</th>\n",
       "      <td>13</td>\n",
       "      <td>Todd Roberts</td>\n",
       "      <td>1474</td>\n",
       "    </tr>\n",
       "    <tr>\n",
       "      <th>13</th>\n",
       "      <td>14</td>\n",
       "      <td>Paul Holmes</td>\n",
       "      <td>1209</td>\n",
       "    </tr>\n",
       "    <tr>\n",
       "      <th>14</th>\n",
       "      <td>15</td>\n",
       "      <td>Roger Alexander</td>\n",
       "      <td>1228</td>\n",
       "    </tr>\n",
       "    <tr>\n",
       "      <th>15</th>\n",
       "      <td>16</td>\n",
       "      <td>Anthony Berry</td>\n",
       "      <td>1337</td>\n",
       "    </tr>\n",
       "    <tr>\n",
       "      <th>16</th>\n",
       "      <td>17</td>\n",
       "      <td>Frank Brown</td>\n",
       "      <td>1244</td>\n",
       "    </tr>\n",
       "    <tr>\n",
       "      <th>17</th>\n",
       "      <td>18</td>\n",
       "      <td>Shawn Wallace</td>\n",
       "      <td>1476</td>\n",
       "    </tr>\n",
       "    <tr>\n",
       "      <th>18</th>\n",
       "      <td>19</td>\n",
       "      <td>Nicholas Cunningham</td>\n",
       "      <td>1294</td>\n",
       "    </tr>\n",
       "    <tr>\n",
       "      <th>19</th>\n",
       "      <td>20</td>\n",
       "      <td>Anthony Torres</td>\n",
       "      <td>1288</td>\n",
       "    </tr>\n",
       "    <tr>\n",
       "      <th>20</th>\n",
       "      <td>21</td>\n",
       "      <td>Samuel Fowler</td>\n",
       "      <td>1388</td>\n",
       "    </tr>\n",
       "    <tr>\n",
       "      <th>21</th>\n",
       "      <td>22</td>\n",
       "      <td>Joe Price</td>\n",
       "      <td>1231</td>\n",
       "    </tr>\n",
       "    <tr>\n",
       "      <th>22</th>\n",
       "      <td>23</td>\n",
       "      <td>Douglas Tucker</td>\n",
       "      <td>1243</td>\n",
       "    </tr>\n",
       "    <tr>\n",
       "      <th>23</th>\n",
       "      <td>24</td>\n",
       "      <td>Roy Rice</td>\n",
       "      <td>1244</td>\n",
       "    </tr>\n",
       "    <tr>\n",
       "      <th>24</th>\n",
       "      <td>25</td>\n",
       "      <td>Patrick Graham</td>\n",
       "      <td>1192</td>\n",
       "    </tr>\n",
       "    <tr>\n",
       "      <th>25</th>\n",
       "      <td>26</td>\n",
       "      <td>Donald Reynolds</td>\n",
       "      <td>1391</td>\n",
       "    </tr>\n",
       "    <tr>\n",
       "      <th>26</th>\n",
       "      <td>27</td>\n",
       "      <td>Shawn Torres</td>\n",
       "      <td>1186</td>\n",
       "    </tr>\n",
       "    <tr>\n",
       "      <th>27</th>\n",
       "      <td>28</td>\n",
       "      <td>Carlos Miller</td>\n",
       "      <td>1188</td>\n",
       "    </tr>\n",
       "  </tbody>\n",
       "</table>\n",
       "</div>"
      ],
      "text/plain": [
       "    _SalesTeamID           Sales Team  TotalQty\n",
       "0              1       Adam Hernandez      1366\n",
       "1              2        Keith Griffin      1180\n",
       "2              3          Jerry Green      1371\n",
       "3              4      Chris Armstrong      1283\n",
       "4              5        Stephen Payne      1249\n",
       "5              6       Joshua Bennett      1163\n",
       "6              7           Shawn Cook      1306\n",
       "7              8         George Lewis      1409\n",
       "8              9          Joshua Ryan      1292\n",
       "9             10     Jonathan Hawkins      1219\n",
       "10            11        Joshua Little      1318\n",
       "11            12          Carl Nguyen      1393\n",
       "12            13         Todd Roberts      1474\n",
       "13            14          Paul Holmes      1209\n",
       "14            15      Roger Alexander      1228\n",
       "15            16        Anthony Berry      1337\n",
       "16            17          Frank Brown      1244\n",
       "17            18        Shawn Wallace      1476\n",
       "18            19  Nicholas Cunningham      1294\n",
       "19            20       Anthony Torres      1288\n",
       "20            21        Samuel Fowler      1388\n",
       "21            22            Joe Price      1231\n",
       "22            23       Douglas Tucker      1243\n",
       "23            24             Roy Rice      1244\n",
       "24            25       Patrick Graham      1192\n",
       "25            26      Donald Reynolds      1391\n",
       "26            27         Shawn Torres      1186\n",
       "27            28        Carlos Miller      1188"
      ]
     },
     "execution_count": 45,
     "metadata": {},
     "output_type": "execute_result"
    }
   ],
   "source": [
    "SalesTeam_sale = SalesTeam_sale.groupby(['_SalesTeamID','Sales Team']).agg(TotalQty = ('Order Quantity', 'sum')).reset_index()\n",
    "SalesTeam_sale\n"
   ]
  },
  {
   "cell_type": "code",
   "execution_count": 46,
   "id": "7829de4d",
   "metadata": {},
   "outputs": [
    {
     "data": {
      "text/html": [
       "<div>\n",
       "<style scoped>\n",
       "    .dataframe tbody tr th:only-of-type {\n",
       "        vertical-align: middle;\n",
       "    }\n",
       "\n",
       "    .dataframe tbody tr th {\n",
       "        vertical-align: top;\n",
       "    }\n",
       "\n",
       "    .dataframe thead th {\n",
       "        text-align: right;\n",
       "    }\n",
       "</style>\n",
       "<table border=\"1\" class=\"dataframe\">\n",
       "  <thead>\n",
       "    <tr style=\"text-align: right;\">\n",
       "      <th></th>\n",
       "      <th>_SalesTeamID</th>\n",
       "      <th>Sales Team</th>\n",
       "      <th>TotalQty</th>\n",
       "    </tr>\n",
       "  </thead>\n",
       "  <tbody>\n",
       "    <tr>\n",
       "      <th>17</th>\n",
       "      <td>18</td>\n",
       "      <td>Shawn Wallace</td>\n",
       "      <td>1476</td>\n",
       "    </tr>\n",
       "    <tr>\n",
       "      <th>12</th>\n",
       "      <td>13</td>\n",
       "      <td>Todd Roberts</td>\n",
       "      <td>1474</td>\n",
       "    </tr>\n",
       "    <tr>\n",
       "      <th>7</th>\n",
       "      <td>8</td>\n",
       "      <td>George Lewis</td>\n",
       "      <td>1409</td>\n",
       "    </tr>\n",
       "  </tbody>\n",
       "</table>\n",
       "</div>"
      ],
      "text/plain": [
       "    _SalesTeamID     Sales Team  TotalQty\n",
       "17            18  Shawn Wallace      1476\n",
       "12            13   Todd Roberts      1474\n",
       "7              8   George Lewis      1409"
      ]
     },
     "execution_count": 46,
     "metadata": {},
     "output_type": "execute_result"
    }
   ],
   "source": [
    "SalesTeam_sale = SalesTeam_sale.nlargest(3, ['TotalQty'])\n",
    "SalesTeam_sale\n"
   ]
  },
  {
   "cell_type": "code",
   "execution_count": 47,
   "id": "5d02c17d",
   "metadata": {},
   "outputs": [
    {
     "data": {
      "text/html": [
       "<div>\n",
       "<style scoped>\n",
       "    .dataframe tbody tr th:only-of-type {\n",
       "        vertical-align: middle;\n",
       "    }\n",
       "\n",
       "    .dataframe tbody tr th {\n",
       "        vertical-align: top;\n",
       "    }\n",
       "\n",
       "    .dataframe thead th {\n",
       "        text-align: right;\n",
       "    }\n",
       "</style>\n",
       "<table border=\"1\" class=\"dataframe\">\n",
       "  <thead>\n",
       "    <tr style=\"text-align: right;\">\n",
       "      <th></th>\n",
       "      <th>_SalesTeamID</th>\n",
       "      <th>Sales Team</th>\n",
       "      <th>TotalQty</th>\n",
       "    </tr>\n",
       "  </thead>\n",
       "  <tbody>\n",
       "    <tr>\n",
       "      <th>17</th>\n",
       "      <td>18</td>\n",
       "      <td>Shawn Wallace</td>\n",
       "      <td>1476</td>\n",
       "    </tr>\n",
       "    <tr>\n",
       "      <th>12</th>\n",
       "      <td>13</td>\n",
       "      <td>Todd Roberts</td>\n",
       "      <td>1474</td>\n",
       "    </tr>\n",
       "    <tr>\n",
       "      <th>7</th>\n",
       "      <td>8</td>\n",
       "      <td>George Lewis</td>\n",
       "      <td>1409</td>\n",
       "    </tr>\n",
       "  </tbody>\n",
       "</table>\n",
       "</div>"
      ],
      "text/plain": [
       "    _SalesTeamID     Sales Team  TotalQty\n",
       "17            18  Shawn Wallace      1476\n",
       "12            13   Todd Roberts      1474\n",
       "7              8   George Lewis      1409"
      ]
     },
     "execution_count": 47,
     "metadata": {},
     "output_type": "execute_result"
    }
   ],
   "source": [
    "SalesTeam_sale.sort_values(by = 'TotalQty', ascending=False)\n"
   ]
  },
  {
   "cell_type": "code",
   "execution_count": 48,
   "id": "8f2cc8c9",
   "metadata": {},
   "outputs": [
    {
     "data": {
      "text/plain": [
       "<BarContainer object of 3 artists>"
      ]
     },
     "execution_count": 48,
     "metadata": {},
     "output_type": "execute_result"
    },
    {
     "data": {
      "image/png": "[encoded data removed]",
      "text/plain": [
       "<Figure size 720x288 with 1 Axes>"
      ]
     },
     "metadata": {
      "needs_background": "light"
     },
     "output_type": "display_data"
    }
   ],
   "source": [
    "plt.figure(figsize = (10,4))\n",
    "plt.title(\"Bar Plot\")\n",
    "plt.xlabel(\"Sales Team\")\n",
    "plt.ylabel(\"TotalQty\")\n",
    "plt.bar( SalesTeam_sale['Sales Team'], SalesTeam_sale.TotalQty, color='green', alpha=0.7)"
   ]
  },
  {
   "cell_type": "markdown",
   "id": "33694a2b",
   "metadata": {},
   "source": [
    "## Top 3 Customers"
   ]
  },
  {
   "cell_type": "code",
   "execution_count": 49,
   "id": "61d63b0a",
   "metadata": {},
   "outputs": [
    {
     "data": {
      "text/html": [
       "<div>\n",
       "<style scoped>\n",
       "    .dataframe tbody tr th:only-of-type {\n",
       "        vertical-align: middle;\n",
       "    }\n",
       "\n",
       "    .dataframe tbody tr th {\n",
       "        vertical-align: top;\n",
       "    }\n",
       "\n",
       "    .dataframe thead th {\n",
       "        text-align: right;\n",
       "    }\n",
       "</style>\n",
       "<table border=\"1\" class=\"dataframe\">\n",
       "  <thead>\n",
       "    <tr style=\"text-align: right;\">\n",
       "      <th></th>\n",
       "      <th>TotalQty</th>\n",
       "    </tr>\n",
       "    <tr>\n",
       "      <th>_CustomerID</th>\n",
       "      <th></th>\n",
       "    </tr>\n",
       "  </thead>\n",
       "  <tbody>\n",
       "    <tr>\n",
       "      <th>1</th>\n",
       "      <td>635</td>\n",
       "    </tr>\n",
       "    <tr>\n",
       "      <th>2</th>\n",
       "      <td>611</td>\n",
       "    </tr>\n",
       "    <tr>\n",
       "      <th>3</th>\n",
       "      <td>880</td>\n",
       "    </tr>\n",
       "  </tbody>\n",
       "</table>\n",
       "</div>"
      ],
      "text/plain": [
       "             TotalQty\n",
       "_CustomerID          \n",
       "1                 635\n",
       "2                 611\n",
       "3                 880"
      ]
     },
     "execution_count": 49,
     "metadata": {},
     "output_type": "execute_result"
    }
   ],
   "source": [
    "top3_customers = Sales.groupby('_CustomerID').agg(TotalQty = ('Order Quantity', 'sum'))\n",
    "top3_customers.head(3)"
   ]
  },
  {
   "cell_type": "code",
   "execution_count": 50,
   "id": "454f2f69",
   "metadata": {},
   "outputs": [
    {
     "data": {
      "text/html": [
       "<div>\n",
       "<style scoped>\n",
       "    .dataframe tbody tr th:only-of-type {\n",
       "        vertical-align: middle;\n",
       "    }\n",
       "\n",
       "    .dataframe tbody tr th {\n",
       "        vertical-align: top;\n",
       "    }\n",
       "\n",
       "    .dataframe thead th {\n",
       "        text-align: right;\n",
       "    }\n",
       "</style>\n",
       "<table border=\"1\" class=\"dataframe\">\n",
       "  <thead>\n",
       "    <tr style=\"text-align: right;\">\n",
       "      <th></th>\n",
       "      <th>TotalQty</th>\n",
       "    </tr>\n",
       "    <tr>\n",
       "      <th>_CustomerID</th>\n",
       "      <th></th>\n",
       "    </tr>\n",
       "  </thead>\n",
       "  <tbody>\n",
       "    <tr>\n",
       "      <th>12</th>\n",
       "      <td>970</td>\n",
       "    </tr>\n",
       "    <tr>\n",
       "      <th>3</th>\n",
       "      <td>880</td>\n",
       "    </tr>\n",
       "    <tr>\n",
       "      <th>29</th>\n",
       "      <td>828</td>\n",
       "    </tr>\n",
       "  </tbody>\n",
       "</table>\n",
       "</div>"
      ],
      "text/plain": [
       "             TotalQty\n",
       "_CustomerID          \n",
       "12                970\n",
       "3                 880\n",
       "29                828"
      ]
     },
     "execution_count": 50,
     "metadata": {},
     "output_type": "execute_result"
    }
   ],
   "source": [
    "top3_customers = top3_customers.nlargest(3, ['TotalQty'])\n",
    "top3_customers\n"
   ]
  },
  {
   "cell_type": "code",
   "execution_count": 51,
   "id": "a0b4ba6b",
   "metadata": {},
   "outputs": [
    {
     "data": {
      "text/html": [
       "<div>\n",
       "<style scoped>\n",
       "    .dataframe tbody tr th:only-of-type {\n",
       "        vertical-align: middle;\n",
       "    }\n",
       "\n",
       "    .dataframe tbody tr th {\n",
       "        vertical-align: top;\n",
       "    }\n",
       "\n",
       "    .dataframe thead th {\n",
       "        text-align: right;\n",
       "    }\n",
       "</style>\n",
       "<table border=\"1\" class=\"dataframe\">\n",
       "  <thead>\n",
       "    <tr style=\"text-align: right;\">\n",
       "      <th></th>\n",
       "      <th>_CustomerID</th>\n",
       "      <th>TotalQty</th>\n",
       "      <th>Customer Names</th>\n",
       "    </tr>\n",
       "  </thead>\n",
       "  <tbody>\n",
       "    <tr>\n",
       "      <th>0</th>\n",
       "      <td>12</td>\n",
       "      <td>970</td>\n",
       "      <td>Medline</td>\n",
       "    </tr>\n",
       "    <tr>\n",
       "      <th>1</th>\n",
       "      <td>3</td>\n",
       "      <td>880</td>\n",
       "      <td>Elorac, Corp</td>\n",
       "    </tr>\n",
       "    <tr>\n",
       "      <th>2</th>\n",
       "      <td>29</td>\n",
       "      <td>828</td>\n",
       "      <td>Apotheca, Ltd</td>\n",
       "    </tr>\n",
       "  </tbody>\n",
       "</table>\n",
       "</div>"
      ],
      "text/plain": [
       "   _CustomerID  TotalQty Customer Names\n",
       "0           12       970       Medline \n",
       "1            3       880   Elorac, Corp\n",
       "2           29       828  Apotheca, Ltd"
      ]
     },
     "execution_count": 51,
     "metadata": {},
     "output_type": "execute_result"
    }
   ],
   "source": [
    "top3_customers = pd.merge(top3_customers, dimCus, on='_CustomerID')\n",
    "top3_customers"
   ]
  },
  {
   "cell_type": "code",
   "execution_count": 52,
   "id": "d815c834",
   "metadata": {},
   "outputs": [
    {
     "data": {
      "text/html": [
       "<div>\n",
       "<style scoped>\n",
       "    .dataframe tbody tr th:only-of-type {\n",
       "        vertical-align: middle;\n",
       "    }\n",
       "\n",
       "    .dataframe tbody tr th {\n",
       "        vertical-align: top;\n",
       "    }\n",
       "\n",
       "    .dataframe thead th {\n",
       "        text-align: right;\n",
       "    }\n",
       "</style>\n",
       "<table border=\"1\" class=\"dataframe\">\n",
       "  <thead>\n",
       "    <tr style=\"text-align: right;\">\n",
       "      <th></th>\n",
       "      <th>_CustomerID</th>\n",
       "      <th>Customer Names</th>\n",
       "      <th>TotalQty</th>\n",
       "    </tr>\n",
       "  </thead>\n",
       "  <tbody>\n",
       "    <tr>\n",
       "      <th>0</th>\n",
       "      <td>12</td>\n",
       "      <td>Medline</td>\n",
       "      <td>970</td>\n",
       "    </tr>\n",
       "    <tr>\n",
       "      <th>1</th>\n",
       "      <td>3</td>\n",
       "      <td>Elorac, Corp</td>\n",
       "      <td>880</td>\n",
       "    </tr>\n",
       "    <tr>\n",
       "      <th>2</th>\n",
       "      <td>29</td>\n",
       "      <td>Apotheca, Ltd</td>\n",
       "      <td>828</td>\n",
       "    </tr>\n",
       "  </tbody>\n",
       "</table>\n",
       "</div>"
      ],
      "text/plain": [
       "   _CustomerID Customer Names  TotalQty\n",
       "0           12       Medline        970\n",
       "1            3   Elorac, Corp       880\n",
       "2           29  Apotheca, Ltd       828"
      ]
     },
     "execution_count": 52,
     "metadata": {},
     "output_type": "execute_result"
    }
   ],
   "source": [
    "top3_customers = top3_customers[['_CustomerID', 'Customer Names', 'TotalQty']]\n",
    "top3_customers\n"
   ]
  },
  {
   "cell_type": "code",
   "execution_count": 53,
   "id": "99334279",
   "metadata": {},
   "outputs": [
    {
     "data": {
      "text/plain": [
       "<BarContainer object of 3 artists>"
      ]
     },
     "execution_count": 53,
     "metadata": {},
     "output_type": "execute_result"
    },
    {
     "data": {
      "image/png": "[encoded data removed]",
      "text/plain": [
       "<Figure size 720x288 with 1 Axes>"
      ]
     },
     "metadata": {
      "needs_background": "light"
     },
     "output_type": "display_data"
    }
   ],
   "source": [
    "plt.figure(figsize = (10,4))\n",
    "plt.title(\"Bar Plot\")\n",
    "plt.xlabel(\"Customer Names\")\n",
    "plt.ylabel(\"TotalQty\")\n",
    "plt.bar( top3_customers['Customer Names'], top3_customers.TotalQty, color='blue', alpha=0.7)"
   ]
  },
  {
   "cell_type": "markdown",
   "id": "be1d1509",
   "metadata": {},
   "source": [
    "## Top 3 stores (state wise)"
   ]
  },
  {
   "cell_type": "code",
   "execution_count": 54,
   "id": "28ba3883",
   "metadata": {},
   "outputs": [
    {
     "data": {
      "text/html": [
       "<div>\n",
       "<style scoped>\n",
       "    .dataframe tbody tr th:only-of-type {\n",
       "        vertical-align: middle;\n",
       "    }\n",
       "\n",
       "    .dataframe tbody tr th {\n",
       "        vertical-align: top;\n",
       "    }\n",
       "\n",
       "    .dataframe thead th {\n",
       "        text-align: right;\n",
       "    }\n",
       "</style>\n",
       "<table border=\"1\" class=\"dataframe\">\n",
       "  <thead>\n",
       "    <tr style=\"text-align: right;\">\n",
       "      <th></th>\n",
       "      <th>TotalQty</th>\n",
       "    </tr>\n",
       "    <tr>\n",
       "      <th>_StoreID</th>\n",
       "      <th></th>\n",
       "    </tr>\n",
       "  </thead>\n",
       "  <tbody>\n",
       "    <tr>\n",
       "      <th>1</th>\n",
       "      <td>122</td>\n",
       "    </tr>\n",
       "    <tr>\n",
       "      <th>2</th>\n",
       "      <td>93</td>\n",
       "    </tr>\n",
       "    <tr>\n",
       "      <th>3</th>\n",
       "      <td>45</td>\n",
       "    </tr>\n",
       "  </tbody>\n",
       "</table>\n",
       "</div>"
      ],
      "text/plain": [
       "          TotalQty\n",
       "_StoreID          \n",
       "1              122\n",
       "2               93\n",
       "3               45"
      ]
     },
     "execution_count": 54,
     "metadata": {},
     "output_type": "execute_result"
    }
   ],
   "source": [
    "top3_stores = Sales.groupby('_StoreID').agg(TotalQty = ('Order Quantity', 'sum'))\n",
    "top3_stores.head(3)"
   ]
  },
  {
   "cell_type": "code",
   "execution_count": 55,
   "id": "a80246ba",
   "metadata": {},
   "outputs": [
    {
     "data": {
      "text/html": [
       "<div>\n",
       "<style scoped>\n",
       "    .dataframe tbody tr th:only-of-type {\n",
       "        vertical-align: middle;\n",
       "    }\n",
       "\n",
       "    .dataframe tbody tr th {\n",
       "        vertical-align: top;\n",
       "    }\n",
       "\n",
       "    .dataframe thead th {\n",
       "        text-align: right;\n",
       "    }\n",
       "</style>\n",
       "<table border=\"1\" class=\"dataframe\">\n",
       "  <thead>\n",
       "    <tr style=\"text-align: right;\">\n",
       "      <th></th>\n",
       "      <th>TotalQty</th>\n",
       "    </tr>\n",
       "    <tr>\n",
       "      <th>_StoreID</th>\n",
       "      <th></th>\n",
       "    </tr>\n",
       "  </thead>\n",
       "  <tbody>\n",
       "    <tr>\n",
       "      <th>284</th>\n",
       "      <td>182</td>\n",
       "    </tr>\n",
       "    <tr>\n",
       "      <th>26</th>\n",
       "      <td>178</td>\n",
       "    </tr>\n",
       "    <tr>\n",
       "      <th>166</th>\n",
       "      <td>174</td>\n",
       "    </tr>\n",
       "  </tbody>\n",
       "</table>\n",
       "</div>"
      ],
      "text/plain": [
       "          TotalQty\n",
       "_StoreID          \n",
       "284            182\n",
       "26             178\n",
       "166            174"
      ]
     },
     "execution_count": 55,
     "metadata": {},
     "output_type": "execute_result"
    }
   ],
   "source": [
    "top3_stores = top3_stores.nlargest(3, ['TotalQty'])\n",
    "top3_stores\n"
   ]
  },
  {
   "cell_type": "code",
   "execution_count": 56,
   "id": "d10937a7",
   "metadata": {},
   "outputs": [
    {
     "data": {
      "text/html": [
       "<div>\n",
       "<style scoped>\n",
       "    .dataframe tbody tr th:only-of-type {\n",
       "        vertical-align: middle;\n",
       "    }\n",
       "\n",
       "    .dataframe tbody tr th {\n",
       "        vertical-align: top;\n",
       "    }\n",
       "\n",
       "    .dataframe thead th {\n",
       "        text-align: right;\n",
       "    }\n",
       "</style>\n",
       "<table border=\"1\" class=\"dataframe\">\n",
       "  <thead>\n",
       "    <tr style=\"text-align: right;\">\n",
       "      <th></th>\n",
       "      <th>_StoreID</th>\n",
       "      <th>TotalQty</th>\n",
       "      <th>City Name</th>\n",
       "      <th>County</th>\n",
       "      <th>StateCode</th>\n",
       "      <th>State</th>\n",
       "      <th>Type</th>\n",
       "      <th>Latitude</th>\n",
       "      <th>Longitude</th>\n",
       "      <th>AreaCode</th>\n",
       "      <th>Population</th>\n",
       "      <th>Household Income</th>\n",
       "      <th>Median Income</th>\n",
       "      <th>Land Area</th>\n",
       "      <th>Water Area</th>\n",
       "      <th>Time Zone</th>\n",
       "    </tr>\n",
       "  </thead>\n",
       "  <tbody>\n",
       "    <tr>\n",
       "      <th>0</th>\n",
       "      <td>284</td>\n",
       "      <td>182</td>\n",
       "      <td>Broken Arrow</td>\n",
       "      <td>Wagoner County/Tulsa County</td>\n",
       "      <td>OK</td>\n",
       "      <td>Oklahoma</td>\n",
       "      <td>City</td>\n",
       "      <td>36.03653</td>\n",
       "      <td>-95.78100</td>\n",
       "      <td>918</td>\n",
       "      <td>106563</td>\n",
       "      <td>37246</td>\n",
       "      <td>67131</td>\n",
       "      <td>159889421</td>\n",
       "      <td>1579677</td>\n",
       "      <td>America/Chicago</td>\n",
       "    </tr>\n",
       "    <tr>\n",
       "      <th>1</th>\n",
       "      <td>26</td>\n",
       "      <td>178</td>\n",
       "      <td>Costa Mesa</td>\n",
       "      <td>Orange County</td>\n",
       "      <td>CA</td>\n",
       "      <td>California</td>\n",
       "      <td>City</td>\n",
       "      <td>33.64113</td>\n",
       "      <td>-117.91867</td>\n",
       "      <td>949</td>\n",
       "      <td>113204</td>\n",
       "      <td>40908</td>\n",
       "      <td>66459</td>\n",
       "      <td>40723584</td>\n",
       "      <td>211253</td>\n",
       "      <td>America/Los Angeles</td>\n",
       "    </tr>\n",
       "    <tr>\n",
       "      <th>2</th>\n",
       "      <td>166</td>\n",
       "      <td>174</td>\n",
       "      <td>Naperville</td>\n",
       "      <td>Will County/DuPage County</td>\n",
       "      <td>IL</td>\n",
       "      <td>Illinois</td>\n",
       "      <td>City</td>\n",
       "      <td>41.74917</td>\n",
       "      <td>-88.16202</td>\n",
       "      <td>630</td>\n",
       "      <td>147100</td>\n",
       "      <td>50073</td>\n",
       "      <td>109468</td>\n",
       "      <td>100155901</td>\n",
       "      <td>1471160</td>\n",
       "      <td>America/Chicago</td>\n",
       "    </tr>\n",
       "  </tbody>\n",
       "</table>\n",
       "</div>"
      ],
      "text/plain": [
       "   _StoreID  TotalQty     City Name                       County StateCode  \\\n",
       "0       284       182  Broken Arrow  Wagoner County/Tulsa County        OK   \n",
       "1        26       178    Costa Mesa                Orange County        CA   \n",
       "2       166       174    Naperville    Will County/DuPage County        IL   \n",
       "\n",
       "        State  Type  Latitude  Longitude  AreaCode  Population  \\\n",
       "0    Oklahoma  City  36.03653  -95.78100       918      106563   \n",
       "1  California  City  33.64113 -117.91867       949      113204   \n",
       "2    Illinois  City  41.74917  -88.16202       630      147100   \n",
       "\n",
       "   Household Income  Median Income  Land Area  Water Area            Time Zone  \n",
       "0             37246          67131  159889421     1579677      America/Chicago  \n",
       "1             40908          66459   40723584      211253  America/Los Angeles  \n",
       "2             50073         109468  100155901     1471160      America/Chicago  "
      ]
     },
     "execution_count": 56,
     "metadata": {},
     "output_type": "execute_result"
    }
   ],
   "source": [
    "top3_stores = pd.merge(top3_stores, dimLoc, on='_StoreID')\n",
    "top3_stores"
   ]
  },
  {
   "cell_type": "code",
   "execution_count": 57,
   "id": "dfd423aa",
   "metadata": {},
   "outputs": [
    {
     "data": {
      "text/html": [
       "<div>\n",
       "<style scoped>\n",
       "    .dataframe tbody tr th:only-of-type {\n",
       "        vertical-align: middle;\n",
       "    }\n",
       "\n",
       "    .dataframe tbody tr th {\n",
       "        vertical-align: top;\n",
       "    }\n",
       "\n",
       "    .dataframe thead th {\n",
       "        text-align: right;\n",
       "    }\n",
       "</style>\n",
       "<table border=\"1\" class=\"dataframe\">\n",
       "  <thead>\n",
       "    <tr style=\"text-align: right;\">\n",
       "      <th></th>\n",
       "      <th>_StoreID</th>\n",
       "      <th>State</th>\n",
       "      <th>TotalQty</th>\n",
       "    </tr>\n",
       "  </thead>\n",
       "  <tbody>\n",
       "    <tr>\n",
       "      <th>0</th>\n",
       "      <td>284</td>\n",
       "      <td>Oklahoma</td>\n",
       "      <td>182</td>\n",
       "    </tr>\n",
       "    <tr>\n",
       "      <th>1</th>\n",
       "      <td>26</td>\n",
       "      <td>California</td>\n",
       "      <td>178</td>\n",
       "    </tr>\n",
       "    <tr>\n",
       "      <th>2</th>\n",
       "      <td>166</td>\n",
       "      <td>Illinois</td>\n",
       "      <td>174</td>\n",
       "    </tr>\n",
       "  </tbody>\n",
       "</table>\n",
       "</div>"
      ],
      "text/plain": [
       "   _StoreID       State  TotalQty\n",
       "0       284    Oklahoma       182\n",
       "1        26  California       178\n",
       "2       166    Illinois       174"
      ]
     },
     "execution_count": 57,
     "metadata": {},
     "output_type": "execute_result"
    }
   ],
   "source": [
    "top3_stores = top3_stores[['_StoreID', 'State', 'TotalQty']]\n",
    "top3_stores"
   ]
  },
  {
   "cell_type": "code",
   "execution_count": 60,
   "id": "a9c58d9c",
   "metadata": {},
   "outputs": [
    {
     "data": {
      "text/plain": [
       "<BarContainer object of 3 artists>"
      ]
     },
     "execution_count": 60,
     "metadata": {},
     "output_type": "execute_result"
    },
    {
     "data": {
      "image/png": "[encoded data removed]",
      "text/plain": [
       "<Figure size 720x288 with 1 Axes>"
      ]
     },
     "metadata": {
      "needs_background": "light"
     },
     "output_type": "display_data"
    }
   ],
   "source": [
    "plt.figure(figsize = (10,4))\n",
    "plt.title(\"Bar Plot\")\n",
    "plt.xlabel(\"State\")\n",
    "plt.ylabel(\"TotalQty\")\n",
    "plt.bar( top3_stores['State'], top3_stores.TotalQty, color='orange', alpha=0.7)"
   ]
  }
 ],
 "metadata": {
  "kernelspec": {
   "display_name": "Python 3 (ipykernel)",
   "language": "python",
   "name": "python3"
  },
  "language_info": {
   "codemirror_mode": {
    "name": "ipython",
    "version": 3
   },
   "file_extension": ".py",
   "mimetype": "text/x-python",
   "name": "python",
   "nbconvert_exporter": "python",
   "pygments_lexer": "ipython3",
   "version": "3.9.7"
  }
 },
 "nbformat": 4,
 "nbformat_minor": 5
}
